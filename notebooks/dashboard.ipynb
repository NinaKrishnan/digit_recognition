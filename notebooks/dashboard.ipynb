{
 "cells": [
  {
   "cell_type": "markdown",
   "metadata": {},
   "source": [
    "# Digit Classification App"
   ]
  },
  {
   "cell_type": "code",
   "execution_count": 10,
   "metadata": {},
   "outputs": [],
   "source": [
    "import warnings\n",
    "warnings.filterwarnings('ignore')\n",
    "\n",
    "import tensorflow as tf\n",
    "from tensorflow import keras\n",
    "from tensorflow.keras import Model\n",
    "from tensorflow.keras.datasets import mnist\n",
    "from tensorflow.keras.models import Sequential\n",
    "from tensorflow.keras.layers import Dense, Dropout, Flatten\n",
    "from tensorflow.keras.layers import Conv2D, MaxPooling2D\n",
    "from tensorflow.keras import backend as K\n",
    "import numpy as np\n",
    "import pandas as pandas\n",
    "from sklearn.model_selection import KFold\n",
    "#import import_ipynb\n",
    "\n",
    "\n",
    "import time, sys\n",
    "from IPython.display import clear_output\n",
    "\n",
    "%matplotlib inline\n",
    "%matplotlib widget\n",
    "\n",
    "import matplotlib as matplotlib\n",
    "import matplotlib.pyplot as pyplot\n",
    "from matplotlib.pyplot import figure\n",
    "from matplotlib.pyplot import legend as Legend\n",
    "from matplotlib.widgets import Button as mButton\n",
    "from matplotlib.image import *\n",
    "import matplotlib.widgets as m_widgets\n",
    "import matplotlib.animation\n",
    "import ipywidgets as widgets\n",
    "from ipywidgets import interactive as interactive\n",
    "from IPython.display import display\n",
    "#from tensorflow.keras import backend as K\n",
    "from tensorflow.keras.models import load_model\n",
    "import random\n",
    "from numpy.random import rand\n",
    "import ipympl as ipl\n",
    "from sklearn.manifold import TSNE\n",
    "from sklearn import decomposition\n",
    "from sklearn.preprocessing import StandardScaler\n",
    "import seaborn as seaborn\n"
   ]
  },
  {
   "cell_type": "code",
   "execution_count": 6,
   "metadata": {},
   "outputs": [],
   "source": [
    "#load training data + labels and testing data + labels\n",
    "(train_data, train_labels), (test_data, test_labels) = mnist.load_data()"
   ]
  },
  {
   "cell_type": "code",
   "execution_count": 7,
   "metadata": {},
   "outputs": [],
   "source": [
    "#load trained model\n",
    "model = load_model('../digit_classification_model.h5')"
   ]
  },
  {
   "cell_type": "code",
   "execution_count": 8,
   "metadata": {},
   "outputs": [],
   "source": [
    "#Loads the model history \n",
    "history=np.load('../my_history.npy',allow_pickle='TRUE').item()"
   ]
  },
  {
   "cell_type": "code",
   "execution_count": 5,
   "metadata": {},
   "outputs": [],
   "source": [
    "def reshape_images(test_data, test_labels, train_data, train_labels):\n",
    "    \n",
    "    train_data = train_data.reshape(train_data.shape[0], 28, 28, 1)\n",
    "    test_data = test_data.reshape(test_data.shape[0], 28, 28, 1)\n",
    "    \n",
    "    image_shape = (28, 28, 1)\n",
    "    train_labels = keras.utils.to_categorical(train_labels)\n",
    "    test_labels = keras.utils.to_categorical(test_labels)\n",
    "    \n",
    "    train_data = train_data.astype('float32')\n",
    "    test_data = test_data.astype('float32')\n",
    "    \n",
    "    train_data /= 255\n",
    "    test_data /= 255"
   ]
  },
  {
   "cell_type": "code",
   "execution_count": 6,
   "metadata": {},
   "outputs": [],
   "source": [
    "reshape_images(test_data, test_labels, train_data, train_labels)"
   ]
  },
  {
   "cell_type": "code",
   "execution_count": 7,
   "metadata": {},
   "outputs": [],
   "source": [
    "def select_image(test_data, index):\n",
    "    \n",
    "    '''Classifies the clicked image and displays the digit'''    \n",
    "    \n",
    "    image = test_data[index].reshape(1, 28, 28, 1)\n",
    "    result = model.predict(image)\n",
    "    return np.argmax(result), max(result)"
   ]
  },
  {
   "cell_type": "code",
   "execution_count": 8,
   "metadata": {},
   "outputs": [],
   "source": [
    "def show_eval_score(test_data, test_labels, train_data, train_labels, rate_id):\n",
    "\n",
    "    '''Dispalys the accuracy or loss percentage''' \n",
    "\n",
    "    train_data = train_data.reshape(train_data.shape[0], 28, 28, 1)\n",
    "    test_data = test_data.reshape(test_data.shape[0], 28, 28, 1)\n",
    "    \n",
    "    image_shape = (28, 28, 1)\n",
    "\n",
    "    train_labels = keras.utils.to_categorical(train_labels)\n",
    "    test_labels = keras.utils.to_categorical(test_labels)\n",
    "    \n",
    "    train_data = train_data.astype('float32')\n",
    "    test_data = test_data.astype('float32')\n",
    "    \n",
    "    train_data /= 255\n",
    "    test_data /= 255\n",
    "\n",
    "\n",
    "  \n",
    "    rate = model.evaluate(test_data, test_labels, verbose=0)\n",
    "    \n",
    "\n",
    "    if(rate_id == 0):\n",
    "        return rate[0]*100\n",
    "    else:\n",
    "        return rate[1]*100"
   ]
  },
  {
   "cell_type": "code",
   "execution_count": 9,
   "metadata": {},
   "outputs": [],
   "source": [
    "class figure_image(object):\n",
    "    \n",
    "    \n",
    "    def __init__(self, fig, index, test_data):\n",
    "        '''A dummy class for storing references to figures'''\n",
    "\n",
    "        self.fig = fig #Pyplot figure\n",
    " \n",
    "        self.index = index #Image index in MNIST Test dataset\n",
    "    \n",
    "        self.test_data = test_data #MNIST test dataset, object copy\n",
    "      \n",
    "        self.ax = pyplot.gca() #Get current axes (rather than instantiate a new one)\n",
    "\n",
    "        self.reset_button = widgets.Button(description=\"Reset\", fontsize=16) #Clears classification output and resets\n",
    "        \n",
    "        self.reset_button.on_click(self.reset_button_clicked) #Function to reset \n",
    "        \n",
    "                     \n",
    "        self.label = self.ax.set_title(\"Click image to classify\", fontsize=18) #Title of fig; classification displayed here\n",
    "        \n",
    "        self.cid = self.fig.canvas.mpl_connect('button_press_event', self.image_clicked) #Classify image when clicked\n",
    "        \n",
    "        \n",
    "    def image_clicked(self, event):\n",
    "        \n",
    "        '''When the figure is clicked, the model is called to classify the image and output the predicted digit'''\n",
    "        \n",
    "        self.ax.set_title(select_image(test_data, self.index)[0], fontsize=18)\n",
    "    \n",
    "    def reset_button_clicked(self, event):\n",
    "        '''Clears the output of a classification event'''\n",
    "        \n",
    "        \n",
    "        self.ax.set_title(\"Click image to classify\", fontsize=18)\n",
    "        \n",
    "\n",
    "        \n",
    "    def show(self):\n",
    "        pyplot.show()\n",
    "        self.fig.show()"
   ]
  },
  {
   "cell_type": "code",
   "execution_count": 10,
   "metadata": {},
   "outputs": [],
   "source": [
    "def create_progress_bar():\n",
    "    \n",
    "    '''Creates a standard progress bar to dispay during long computations.'''    \n",
    "    \n",
    "    progress_bar = widgets.IntProgress(value=0,\n",
    "    min=0,\n",
    "    max=10,\n",
    "    step=1,\n",
    "    description='Loading:',\n",
    "    bar_style='', \n",
    "    orientation='horizontal')\n",
    "    count = 0\n",
    "    \n",
    "    return progress_bar"
   ]
  },
  {
   "cell_type": "code",
   "execution_count": 11,
   "metadata": {},
   "outputs": [],
   "source": [
    "def load_progress_bar(progress_bar, rate_id):\n",
    "    \n",
    "    '''Increments a progress bar while the accuracy or loss rate is being evaluated'''\n",
    "    \n",
    "    count=0\n",
    "    while count <= 3:\n",
    "        progress_bar.value += 1\n",
    "        time.sleep(.1)\n",
    "        count+=1\n",
    "\n",
    "    score = show_eval_score(test_data, test_labels, train_data, train_labels, rate_id)\n",
    "\n",
    "    while count <= 10:\n",
    "        progress_bar.value += 1 # signal to increment the progress bar\n",
    "        time.sleep(.4)\n",
    "        count += 1\n",
    "        \n",
    "    return score"
   ]
  },
  {
   "cell_type": "code",
   "execution_count": 12,
   "metadata": {},
   "outputs": [],
   "source": [
    "def get_loss_rate(event, button, vbox):\n",
    "    \n",
    "    '''Evaluates the loss of the model and displays it. If loss rate is already displayed,\n",
    "    it is cleared and reset.'''    \n",
    "    \n",
    "    percent_label = widgets.Label(value='')\n",
    "    total_tested_label = widgets.Label(value='')\n",
    "    total_loss_label = widgets.Label(value='')\n",
    "    \n",
    "    \n",
    "    \n",
    "    \n",
    "    progress_bar = create_progress_bar()\n",
    "    \n",
    "    if(len(button.description) > 6):\n",
    "        \n",
    "        vbox.children += (progress_bar, percent_label, total_tested_label, total_loss_label,)\n",
    "        \n",
    "        score = load_progress_bar(progress_bar, 0)\n",
    "        total_tested = len(test_data)\n",
    "        total_loss = int(len(test_data) * (score/100))\n",
    "        \n",
    "        percent_label.value = str(score)+' % loss'\n",
    "        total_tested_label.value = \"Number of images tested: \"+str(total_tested)\n",
    "        total_loss_label.value = \"Number of missed predictions: \"+str(total_loss)\n",
    "        \n",
    "        button.description = \"Clear\"\n",
    "        \n",
    "        progress_bar.value = 10\n",
    "        time.sleep(.2)\n",
    "        progress_bar.layout.visibility = 'hidden'\n",
    "        \n",
    "        \n",
    "    else:\n",
    "        button.description = \"Show Loss Rate:\"\n",
    "        vbox.children=[]\n",
    "\n"
   ]
  },
  {
   "cell_type": "code",
   "execution_count": 13,
   "metadata": {},
   "outputs": [],
   "source": [
    "def get_accuracy_rate(event, button, vbox):\n",
    "    \n",
    "    '''Evaluates the accuracy of the model and displays it. If accuracy rate is already displayed,\n",
    "    it is cleared and reset.'''    \n",
    "    \n",
    "    percent_label = widgets.Label(value='')\n",
    "    total_tested_label = widgets.Label(value='')\n",
    "    total_correct_label = widgets.Label(value='')\n",
    "    \n",
    "    \n",
    "    progress_bar = create_progress_bar()\n",
    "    \n",
    "    \n",
    "    \n",
    "    if(len(button.description) > 6):\n",
    "        \n",
    "        vbox.children += (progress_bar, percent_label, total_tested_label, total_correct_label) \n",
    "        score = load_progress_bar(progress_bar, 1)\n",
    "        \n",
    "        total_correct = int(len(test_data)*(score/100))\n",
    "        total_tested = len(test_data)\n",
    "        \n",
    "        percent_label.value = str(score)+ \"% accuracy\"\n",
    "        total_tested_label.value = \"Number of images tested: \"+str(total_tested)\n",
    "        total_correct_label.value = \"Number of correct predictions: \"+str(total_correct)\n",
    "        \n",
    "        button.description = \"Clear\"\n",
    "\n",
    "\n",
    "        progress_bar.value=10\n",
    "        time.sleep(.2)\n",
    "        progress_bar.layout.visibility = 'hidden'\n",
    "        \n",
    "       \n",
    "\n",
    "    else:\n",
    "        button.description = \"Show Accuracy Rate:\"\n",
    "        vbox.children=[]"
   ]
  },
  {
   "cell_type": "code",
   "execution_count": 14,
   "metadata": {},
   "outputs": [],
   "source": [
    "def get_images():\n",
    "    \n",
    "    \n",
    "    '''Randomly selects 10 images from the test dataset. Each image can be run through the model \n",
    "    for classification by clicking it, and they are each paired with a reset button to clear the \n",
    "    output of the classification. The images and corresponding reset buttons are placed in a container, and each \n",
    "    container is placed inside a larger container to be displayed upon app initialization.'''\n",
    "\n",
    "    hbox_list = []\n",
    "    hbox_list2 = []\n",
    "    \n",
    "    num_samples = 10\n",
    "    \n",
    "    indexes = random.sample(range(len(test_data)), num_samples)\n",
    "\n",
    "    \n",
    "    for i in range(len(indexes)):\n",
    "        output = widgets.Output()\n",
    "        with output:\n",
    "            fig = pyplot.figure()\n",
    "        pyplot.imshow(test_data[indexes[i]], cmap=pyplot.get_cmap('gray'), picker=True)\n",
    "        new_test = figure_image(fig, indexes[i], test_data)\n",
    "        fig.canvas.toolbar_position = 'bottom'\n",
    "            \n",
    "            \n",
    "        hbox = widgets.HBox([new_test.reset_button, output])\n",
    "        hbox_list.append(hbox)\n",
    "        \n",
    "        if (i+1)%2 == 0:\n",
    "            n_hbox = widgets.HBox([])\n",
    "            for k in range(i-1, i+1):\n",
    "                n_hbox.children += (hbox_list[k],)\n",
    "            hbox_list2.append(n_hbox)\n",
    "            \n",
    "    vbox = widgets.VBox([])\n",
    "    \n",
    "    for box in range(0, len(hbox_list2)):\n",
    "        vbox.children += (hbox_list2[box],)\n",
    "    return vbox\n",
    "        \n",
    "        #display(widgets.HBox([new_test.reset_button, output]))"
   ]
  },
  {
   "cell_type": "code",
   "execution_count": 15,
   "metadata": {},
   "outputs": [],
   "source": [
    "def refresh_images(event, vbox):\n",
    "     \n",
    "    #for i in range(1, 11):\n",
    "     #   pyplot.close(i)\n",
    "        \n",
    "    pyplot.close('all')\n",
    "    \n",
    "    new_vbox = get_images()\n",
    "    \n",
    "    \n",
    "    vbox.children=new_vbox.children"
   ]
  },
  {
   "cell_type": "code",
   "execution_count": 16,
   "metadata": {},
   "outputs": [],
   "source": [
    "def show_loss_button():\n",
    "    \n",
    "    '''Creates and displays a button for evaluating the loss rate of the model'''    \n",
    "    \n",
    "    style = {'description_width': 'initial'}\n",
    "\n",
    "    loss_button = widgets.Button(description=\"Click to Show Loss Rate:\", style=style)\n",
    "    \n",
    "    loss_button.layout.height = '60px'\n",
    "    loss_button.layout.width = '50%'\n",
    "    \n",
    "    loss_button.style.button_color=\"palegoldenrod\"\n",
    "    \n",
    "    res_vbox = widgets.VBox([])\n",
    "\n",
    "    \n",
    "    loss_hbox = widgets.HBox([loss_button, res_vbox])\n",
    "    loss_button.on_click(lambda event: get_loss_rate('button_press_event', loss_button, res_vbox))\n",
    "    \n",
    "    return loss_hbox"
   ]
  },
  {
   "cell_type": "code",
   "execution_count": 17,
   "metadata": {},
   "outputs": [],
   "source": [
    "def show_acc_button():\n",
    "    \n",
    "    \n",
    "    '''Creates and displays a button for evaluating the accuracy rate of the model'''\n",
    "    \n",
    "    style = {'description_width': 'initial'}\n",
    "\n",
    "    acc_button = widgets.Button(description=\"Click to Show Accuracy Rate:\", style=style)\n",
    "    \n",
    "    acc_button.layout.height = '60px'\n",
    "    acc_button.layout.width = '50%'\n",
    "    \n",
    "    acc_button.style.button_color=\"palegoldenrod\"\n",
    "    \n",
    "    res_vbox = widgets.VBox([])\n",
    "    \n",
    "    \n",
    "    acc_hbox = widgets.HBox([acc_button, res_vbox])\n",
    "    acc_button.on_click(lambda event: get_accuracy_rate('button_press_event', acc_button, res_vbox))\n",
    "    \n",
    "    return acc_hbox"
   ]
  },
  {
   "cell_type": "code",
   "execution_count": 9,
   "metadata": {},
   "outputs": [],
   "source": [
    "def plot_pca_cluster():\n",
    "    \n",
    "    '''Plot the principal component analysis of the training data. The data is compressed into two dimensions, \n",
    "    and the resulting plot clusters images with similar features.'''\n",
    "\n",
    "    output = widgets.Output()\n",
    "    #l_pca = widgets.Label(value=\"Plotting Principle Component Analysis...\")\n",
    "\n",
    "\n",
    "    \n",
    "    with output:\n",
    "        fig = pyplot.figure()\n",
    "    \n",
    "    test_data_csv=pandas.read_csv(\"../mnist_test.csv\")\n",
    "    \n",
    "    label=test_data_csv['label']\n",
    "    drop = test_data_csv.drop('label',axis=1)\n",
    "    \n",
    "    pca_data = drop\n",
    "    \n",
    "    pca= decomposition.PCA()\n",
    "\n",
    "    standard_scaler_data= StandardScaler().fit_transform(pca_data.astype(int))\n",
    "\n",
    "    pca.n_components = 2\n",
    "    fitted_data= pca.fit_transform(standard_scaler_data)\n",
    "\n",
    "\n",
    "    fitted_data=np.vstack((fitted_data.T,label)).T\n",
    "\n",
    "\n",
    "    data_frame = pandas.DataFrame(data=fitted_data, columns=(\"1st Principal\", \"2nd Principal\", \"Key\"))\n",
    "\n",
    "    seaborn.FacetGrid(data_frame, hue='Key',height=6).map(pyplot.scatter,'1st Principal','2nd Principal').add_legend()\n",
    "    \n",
    "    "
   ]
  },
  {
   "cell_type": "code",
   "execution_count": null,
   "metadata": {},
   "outputs": [],
   "source": [
    "def plot_acc_curve():\n",
    "    \n",
    "    '''Plot the classification accuracy in the training set. \n",
    "    The accuracy is inerpreted as the percentage of correctly classified images during training.'''    \n",
    "    \n",
    "    output = widgets.Output()\n",
    "    with output:\n",
    "        fig = pyplot.figure()\n",
    "    pyplot.gca().set_title(\"Classification Accuracy Curve\")\n",
    "    pyplot.plot(history['val_acc'], color='tab:pink')\n",
    "   \n",
    "    l_acc = widgets.Label(value=\"Plotting Classification Accuracy Curve...\")\n",
    "    \n",
    "    vbox = widgets.VBox([l_acc, output])\n",
    "    \n",
    "    return vbox\n",
    "\n",
    "    \n",
    "    "
   ]
  },
  {
   "cell_type": "code",
   "execution_count": 20,
   "metadata": {},
   "outputs": [],
   "source": [
    "def plot_loss_curve():\n",
    "    \n",
    "    '''Plot the classification loss in the training set.\n",
    "    The loss is interpreted as the percentage of classification errors during training.'''\n",
    "    \n",
    "    output=widgets.Output()\n",
    "    with output:\n",
    "        fig = pyplot.figure()\n",
    "    pyplot.gca().set_title(\"Cross Entropy Loss Curve\")\n",
    "    pyplot.plot(history['val_loss'], color='tab:purple')\n",
    "    \n",
    "    l_loss = widgets.Label(value=\"Plotting Classification Cross Entropy Loss Curve...\")\n",
    "\n",
    "    \n",
    "    vbox = widgets.VBox([l_loss, output])\n",
    "    return vbox"
   ]
  },
  {
   "cell_type": "code",
   "execution_count": 21,
   "metadata": {},
   "outputs": [],
   "source": [
    "def plot_acc_analysis():\n",
    "    \n",
    "\n",
    "    '''Plot the validation accuracy against the training accuracy for comparison.\n",
    "    The validation accuracy represents the percentage of correctly classified images\n",
    "    in the validation dataset, which contains images that the model has never seen before.'''\n",
    "    \n",
    "    output=widgets.Output()\n",
    "    with output:\n",
    "        fig = pyplot.figure()\n",
    "    pyplot.gca().set_title(\"Classification Accuracy Analysis\")\n",
    "    pyplot.plot(history['acc'], color='tab:cyan')\n",
    "    pyplot.plot(history['val_acc'], color='tab:red')\n",
    "    \n",
    "    \n",
    "    l_acc_analysis = widgets.Label(value=\"Plotting Classification Accuracy Analysis...\")\n",
    "\n",
    "    vbox = widgets.VBox([l_acc_analysis, output])\n",
    "    return vbox"
   ]
  },
  {
   "cell_type": "code",
   "execution_count": 22,
   "metadata": {},
   "outputs": [],
   "source": [
    "def plot_loss_analysis():\n",
    "    \n",
    "    '''Plot the validation loss against the training loss for comparison.\n",
    "    The validation loss represents the percentage of incorrectly classified images in the validation dataset,\n",
    "    which contains images that the model has never seen before.'''\n",
    "\n",
    "    output=widgets.Output()\n",
    "    with output:\n",
    "        fig = pyplot.figure()\n",
    "    pyplot.gca().set_title(\"Cross Entropy Loss Analysis\")\n",
    "    pyplot.plot(history['loss'], color='tab:purple')\n",
    "    pyplot.plot(history['val_loss'], color='tab:green')\n",
    "    \n",
    "    l_loss_analysis = widgets.Label(value=\"Plotting Classification Cross Entropy Loss Analysis...\")\n",
    "\n",
    "    vbox = widgets.VBox([l_loss_analysis, output])\n",
    "    return vbox"
   ]
  },
  {
   "cell_type": "code",
   "execution_count": 23,
   "metadata": {},
   "outputs": [],
   "source": [
    "def plot_digit_frequency():\n",
    "    \n",
    "    '''Plots the number of occurrences of each digit in the test data'''\n",
    "\n",
    "    digits = ['0', '1', '2', '3', '4', '5', '6', '7', '8', '9']\n",
    "    \n",
    "    digit_freq = [0]*10\n",
    "    \n",
    "    for label in test_labels:\n",
    "        digit_freq[label]+=1\n",
    "    output = widgets.Output()\n",
    "    \n",
    "    with output:\n",
    "        fig = pyplot.figure()\n",
    "   \n",
    "    pyplot.gca().set_title(\"Frequency of Digits in Test Data\")\n",
    "    pyplot.gca().set_xlabel(\"Digit\")\n",
    "    pyplot.gca().set_ylabel(\"Frequency\")\n",
    "    pyplot.gca().set_yticks(np.arange(0, 1140, 100))\n",
    "    \n",
    "    \n",
    "    pyplot.bar(digits, digit_freq, color=['tab:blue', 'tab:orange', 'tab:green', 'tab:red', \n",
    "                                          'tab:purple', 'tab:brown', 'tab:pink', 'tab:gray', 'tab:olive', 'tab:cyan'])\n",
    "\n",
    "    \n",
    "    l_digit_freq = widgets.Label(value=\"Plotting digit frequency...\")\n",
    "    \n",
    "    vbox=widgets.VBox([l_digit_freq, output])\n",
    "    \n",
    "    return vbox"
   ]
  },
  {
   "cell_type": "code",
   "execution_count": 24,
   "metadata": {},
   "outputs": [],
   "source": [
    "def first_progr_bar_display(progress_bar, description):\n",
    "    \n",
    "    '''Initialize a progress bar to signal that figures are currently loading'''\n",
    "    \n",
    "    style={'description_width': 'initial'}\n",
    "\n",
    "    progress_bar.description=description\n",
    "    progress_bar.style=style\n",
    "    \n",
    "    display(progress_bar)\n",
    "    \n",
    "    count=0\n",
    "    while count <= 3:\n",
    "        progress_bar.value += 1\n",
    "        time.sleep(.1)\n",
    "        count+=1\n",
    "    return progress_bar"
   ]
  },
  {
   "cell_type": "code",
   "execution_count": 25,
   "metadata": {},
   "outputs": [],
   "source": [
    "def second_progr_bar_display(progress_bar):\n",
    "    \n",
    "    '''Moves progress bar to the end to signal loading completion'''\n",
    "    \n",
    "    \n",
    "    count=3\n",
    "    while count <= 10:\n",
    "        progress_bar.value += 1 \n",
    "        time.sleep(.4)\n",
    "        count += 1\n",
    "\n",
    "    progress_bar.value = 10\n",
    "    time.sleep(.3)\n",
    "    progress_bar.layout.visibility='hidden'\n"
   ]
  },
  {
   "cell_type": "code",
   "execution_count": 26,
   "metadata": {
    "scrolled": false
   },
   "outputs": [],
   "source": [
    "#THE WORKING CODE\n",
    "\n",
    "def start_app():\n",
    "    pyplot.close('all')    \n",
    "####################################################################################################\n",
    "    \n",
    "    style={'description_width': 'initial'}   \n",
    "####################################################################################################\n",
    "\n",
    "    \n",
    "    progress_bar1 = create_progress_bar() #Progress bar to track loading of dataset sample images\n",
    "    \n",
    "    first_progr_bar_display(progress_bar1, \"Loading Dataset Samples...\")  \n",
    "####################################################################################################\n",
    "    \n",
    "    \n",
    "    dataset_label = widgets.Label(value= \"Sample data; click images to classify digit\")\n",
    "    \n",
    "####################################################################################################\n",
    "  \n",
    "\n",
    "    images_vbox = get_images() #Container of 10 randomly selected test data samples\n",
    "    \n",
    "    generate_new_samples_button = widgets.Button(description=\"Click to generate new data samples\") #Randomly generate 10 new samples\n",
    "    \n",
    "    generate_new_samples_button.layout.height='50px'\n",
    "    \n",
    "    generate_new_samples_button.layout.width='30%'\n",
    "    \n",
    "    generate_new_samples_button.style.button_color=\"lightsalmon\"\n",
    "    \n",
    "    generate_new_samples_button.on_click(lambda event: refresh_images('button_press_event', images_vbox))\n",
    "    \n",
    "    display(generate_new_samples_button) #Display sample re-generation button\n",
    "    \n",
    "    dataset_vbox = widgets.VBox([dataset_label, images_vbox]) #Container with dataset label and data sample container\n",
    "\n",
    "    display(dataset_vbox) #Display the label and data sample images\n",
    "    \n",
    "\n",
    "    ##################################################################################################################\n",
    "        \n",
    "    acc_hbox = show_acc_button() #Button/label pair to show accuracy rate\n",
    "    \n",
    "    loss_hbox = show_loss_button() #button/label pair to show loss rate\n",
    "    \n",
    "    rate_vbox = widgets.VBox([acc_hbox, loss_hbox]) #vbox with both buttons\n",
    "    \n",
    "    display(rate_vbox)\n",
    "    \n",
    "    ######################################################################################################################\n",
    "    \n",
    "\n",
    "    progress_bar2 = create_progress_bar() #Progress bar to track loading of graphs\n",
    "    first_progr_bar_display(progress_bar2, \"Plotting Graphs...\")\n",
    "        \n",
    "\n",
    "    digit_freq_box = plot_digit_frequency()\n",
    "    display(digit_freq_box)\n",
    "        \n",
    "    acc_box = plot_acc_curve()\n",
    "    display(acc_box)\n",
    "    \n",
    "    loss_box = plot_loss_curve()\n",
    "    display(loss_box)\n",
    "    \n",
    "    acc_analysis_box = plot_acc_analysis()\n",
    "    display(acc_analysis_box)\n",
    "    \n",
    "    loss_analysis_box = plot_loss_analysis()\n",
    "    display(loss_analysis_box)\n",
    "    \n",
    "    display(widgets.Label(value=\"Plotting Principal Component Analysis Cluster...\", style=style))\n",
    "    display(plot_pca_cluster()) #Plot PCA scatter plot\n",
    "    \n",
    "    \n",
    "    #Move progress bar to end after rendering is complete\n",
    "    second_progr_bar_display(progress_bar2) \n",
    "    second_progr_bar_display(progress_bar1)\n",
    "    \n",
    "    \n",
    "    ######################################################################################################################\n",
    "\n",
    "    \n",
    "    \n",
    "    \n",
    "    ######################################################################################################################\n",
    "\n",
    "\n",
    "    ######################################################################################################################\n",
    "\n",
    "    \n",
    "    \n",
    "    "
   ]
  },
  {
   "cell_type": "code",
   "execution_count": 27,
   "metadata": {
    "scrolled": false
   },
   "outputs": [
    {
     "data": {
      "application/vnd.jupyter.widget-view+json": {
       "model_id": "eccc1c8a30964ec4ab88312c7a40422c",
       "version_major": 2,
       "version_minor": 0
      },
      "text/plain": [
       "IntProgress(value=0, description='Loading Dataset Samples...', max=10, style=ProgressStyle(description_width='…"
      ]
     },
     "metadata": {},
     "output_type": "display_data"
    },
    {
     "data": {
      "application/vnd.jupyter.widget-view+json": {
       "model_id": "6cfc8a711902414987b7642e73b9482c",
       "version_major": 2,
       "version_minor": 0
      },
      "text/plain": [
       "Button(description='Click to generate new data samples', layout=Layout(height='50px', width='30%'), style=Butt…"
      ]
     },
     "metadata": {},
     "output_type": "display_data"
    },
    {
     "data": {
      "application/vnd.jupyter.widget-view+json": {
       "model_id": "218ebb98e0734067a6facb723904e0c8",
       "version_major": 2,
       "version_minor": 0
      },
      "text/plain": [
       "VBox(children=(Label(value='Sample data; click images to classify digit'), VBox(children=(HBox(children=(HBox(…"
      ]
     },
     "metadata": {},
     "output_type": "display_data"
    },
    {
     "data": {
      "application/vnd.jupyter.widget-view+json": {
       "model_id": "f7ccd5da2a9743589c03ef95cc314194",
       "version_major": 2,
       "version_minor": 0
      },
      "text/plain": [
       "VBox(children=(HBox(children=(Button(description='Click to Show Accuracy Rate:', layout=Layout(height='60px', …"
      ]
     },
     "metadata": {},
     "output_type": "display_data"
    },
    {
     "data": {
      "application/vnd.jupyter.widget-view+json": {
       "model_id": "d185eb94caf842b7abdde80a244dad9f",
       "version_major": 2,
       "version_minor": 0
      },
      "text/plain": [
       "IntProgress(value=0, description='Plotting Graphs...', max=10, style=ProgressStyle(description_width='initial'…"
      ]
     },
     "metadata": {},
     "output_type": "display_data"
    },
    {
     "data": {
      "application/vnd.jupyter.widget-view+json": {
       "model_id": "84bf4a6a0b1b4ca0a1a5cca156d64863",
       "version_major": 2,
       "version_minor": 0
      },
      "text/plain": [
       "VBox(children=(Label(value='Plotting digit frequency...'), Output()))"
      ]
     },
     "metadata": {},
     "output_type": "display_data"
    },
    {
     "data": {
      "application/vnd.jupyter.widget-view+json": {
       "model_id": "82481777894c4201b70b8f72042d84c0",
       "version_major": 2,
       "version_minor": 0
      },
      "text/plain": [
       "VBox(children=(Label(value='Plotting Classification Accuracy Curve...'), Output()))"
      ]
     },
     "metadata": {},
     "output_type": "display_data"
    },
    {
     "data": {
      "application/vnd.jupyter.widget-view+json": {
       "model_id": "966857108e2c4bb994b96858172893ea",
       "version_major": 2,
       "version_minor": 0
      },
      "text/plain": [
       "VBox(children=(Label(value='Plotting Classification Cross Entropy Loss Curve...'), Output()))"
      ]
     },
     "metadata": {},
     "output_type": "display_data"
    },
    {
     "data": {
      "application/vnd.jupyter.widget-view+json": {
       "model_id": "c96254eb2c9c415fbdcfab3951b4e533",
       "version_major": 2,
       "version_minor": 0
      },
      "text/plain": [
       "VBox(children=(Label(value='Plotting Classification Accuracy Analysis...'), Output()))"
      ]
     },
     "metadata": {},
     "output_type": "display_data"
    },
    {
     "data": {
      "application/vnd.jupyter.widget-view+json": {
       "model_id": "e01b9e2bb23941c69acdb90ad96c098a",
       "version_major": 2,
       "version_minor": 0
      },
      "text/plain": [
       "VBox(children=(Label(value='Plotting Classification Cross Entropy Loss Analysis...'), Output()))"
      ]
     },
     "metadata": {},
     "output_type": "display_data"
    },
    {
     "data": {
      "application/vnd.jupyter.widget-view+json": {
       "model_id": "2e5f8a7d10684ac79525ad6deeff7e60",
       "version_major": 2,
       "version_minor": 0
      },
      "text/plain": [
       "Label(value='Plotting Principal Component Analysis Cluster...', style=DescriptionStyle(description_width='init…"
      ]
     },
     "metadata": {},
     "output_type": "display_data"
    },
    {
     "data": {
      "application/vnd.jupyter.widget-view+json": {
       "model_id": "4f3c4764c8d44801adc5608dd374513d",
       "version_major": 2,
       "version_minor": 0
      },
      "text/plain": [
       "Canvas(toolbar=Toolbar(toolitems=[('Home', 'Reset original view', 'home', 'home'), ('Back', 'Back to previous …"
      ]
     },
     "metadata": {},
     "output_type": "display_data"
    },
    {
     "data": {
      "text/plain": [
       "None"
      ]
     },
     "metadata": {},
     "output_type": "display_data"
    }
   ],
   "source": [
    "pyplot.close('all') #Close all figures\n",
    "start_app()"
   ]
  },
  {
   "cell_type": "code",
   "execution_count": null,
   "metadata": {},
   "outputs": [],
   "source": []
  },
  {
   "cell_type": "code",
   "execution_count": null,
   "metadata": {},
   "outputs": [],
   "source": []
  },
  {
   "cell_type": "code",
   "execution_count": null,
   "metadata": {},
   "outputs": [],
   "source": []
  },
  {
   "cell_type": "code",
   "execution_count": null,
   "metadata": {},
   "outputs": [],
   "source": []
  },
  {
   "cell_type": "code",
   "execution_count": null,
   "metadata": {},
   "outputs": [],
   "source": []
  }
 ],
 "metadata": {
  "kernelspec": {
   "display_name": "Python 3",
   "language": "python",
   "name": "python3"
  },
  "language_info": {
   "codemirror_mode": {
    "name": "ipython",
    "version": 3
   },
   "file_extension": ".py",
   "mimetype": "text/x-python",
   "name": "python",
   "nbconvert_exporter": "python",
   "pygments_lexer": "ipython3",
   "version": "3.7.6"
  }
 },
 "nbformat": 4,
 "nbformat_minor": 4
}
